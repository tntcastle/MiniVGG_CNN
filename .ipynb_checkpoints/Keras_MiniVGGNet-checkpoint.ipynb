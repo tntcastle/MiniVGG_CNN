{
 "cells": [
  {
   "cell_type": "markdown",
   "id": "612912df-8bcd-40da-a255-30353a08d380",
   "metadata": {},
   "source": [
    "## MiniVGGNet CNN (TensorFlow + Keras)"
   ]
  },
  {
   "cell_type": "code",
   "execution_count": 1,
   "id": "32afc255-d0bc-4938-b2d9-cc7f0d8c57d6",
   "metadata": {},
   "outputs": [
    {
     "name": "stdout",
     "output_type": "stream",
     "text": [
      "2.10.1\n",
      "[PhysicalDevice(name='/physical_device:GPU:0', device_type='GPU')]\n"
     ]
    }
   ],
   "source": [
    "import tensorflow as tf\n",
    "from tensorflow.keras.models import Sequential\n",
    "from tensorflow.keras.layers import Conv2D, MaxPooling2D, Flatten, Dense, Dropout, BatchNormalization\n",
    "from tensorflow.keras.optimizers import SGD\n",
    "from tensorflow.keras.preprocessing.image import ImageDataGenerator\n",
    "\n",
    "import matplotlib.pyplot as plt\n",
    "import numpy as np\n",
    "import time\n",
    "\n",
    "print(tf.__version__)\n",
    "print(tf.config.list_physical_devices('GPU'))"
   ]
  },
  {
   "cell_type": "markdown",
   "id": "b2f14a96-48e1-4fba-94db-f59f3da43355",
   "metadata": {},
   "source": [
    "### CIFAR 10 Dataset"
   ]
  },
  {
   "cell_type": "code",
   "execution_count": 2,
   "id": "6a1edf0b-46c5-4df3-b31f-88c858ed543a",
   "metadata": {},
   "outputs": [
    {
     "name": "stdout",
     "output_type": "stream",
     "text": [
      "[INFO] loading CIFAR-10 data...\n"
     ]
    }
   ],
   "source": [
    "print(\"[INFO] loading CIFAR-10 data...\")\n",
    "(x_train, y_train), (x_test, y_test) = tf.keras.datasets.cifar10.load_data()\n",
    "\n",
    "# normalize images (scale between 0 and 1)\n",
    "x_train, x_test = x_train.astype(\"float32\") / 255.0, x_test.astype(\"float32\") / 255.0\n",
    "\n",
    "y_train = tf.keras.utils.to_categorical(y_train, 10)\n",
    "y_test = tf.keras.utils.to_categorical(y_test, 10)"
   ]
  },
  {
   "cell_type": "code",
   "execution_count": 3,
   "id": "fc2a7ccb-6f72-4e9e-808d-a1b2ddb30c37",
   "metadata": {},
   "outputs": [
    {
     "data": {
      "image/png": "[encoded data removed]",
      "text/plain": [
       "<Figure size 640x480 with 1 Axes>"
      ]
     },
     "metadata": {},
     "output_type": "display_data"
    }
   ],
   "source": [
    "# test print to make sure import was  a success \n",
    "cifar10_classes = [\"airplane\", \"automobile\", \"bird\", \"cat\", \"deer\", \"dog\", \"frog\", \"horse\", \"ship\", \"truck\"]\n",
    "\n",
    "idx = np.random.randint(0, len(x_train))\n",
    "sample_image = x_train[idx] \n",
    "sample_label = np.argmax(y_train[idx]) \n",
    "class_name = cifar10_classes[sample_label] \n",
    "sample_image = sample_image * 255.0 \n",
    "sample_image = sample_image.astype(\"uint8\")\n",
    "\n",
    "plt.imshow(sample_image)\n",
    "plt.title(f\"Class: {class_name} ({sample_label})\")\n",
    "plt.axis(\"off\")\n",
    "plt.show()"
   ]
  },
  {
   "cell_type": "code",
   "execution_count": 4,
   "id": "11094c7c-5b70-407f-8aaa-adf2519995b3",
   "metadata": {},
   "outputs": [],
   "source": [
    "# data augmentation for training only\n",
    "train_datagen = ImageDataGenerator(\n",
    "    rotation_range=10,   # Rotate images randomly\n",
    "    width_shift_range=0.1,\n",
    "    height_shift_range=0.1,\n",
    "    horizontal_flip=True\n",
    ")\n",
    "\n",
    "# Apply augmentation only on training data\n",
    "train_generator = train_datagen.flow(x_train, y_train, batch_size=64)"
   ]
  },
  {
   "cell_type": "markdown",
   "id": "d5b53684-714c-4d39-b40d-1f9d1b5a59ff",
   "metadata": {},
   "source": [
    "### MiniVGGNet Model\n",
    "\n",
    "First conv block\n",
    "- 2 conv layers (3x3, 32 filters)\n",
    "- ReLu activation (discards noise)\n",
    "- BatchNorm (normalizes activation for efficiency)\n",
    "- Max Pool (downsamples dimensions)\n",
    "- Dropout 25% (reduces overfitting)\n",
    "\n",
    "Second block\n",
    "- 2 conv layers (3x3, 64 filters)\n",
    "- BatchNorm\n",
    "- MaxPool\n",
    "- Dropout 25%\n",
    "\n",
    "Final\n",
    "- flatten (1D vector)\n",
    "- FC (512 neurons, 64 feature maps * 8x8 spacial dimensions)\n",
    "- Batch norm (for FC)\n",
    "- Droupout 50%\n",
    "- Final FC (with number of classes)"
   ]
  },
  {
   "cell_type": "code",
   "execution_count": 5,
   "id": "71028777-40e3-461c-a33b-46296969b497",
   "metadata": {},
   "outputs": [],
   "source": [
    "def MiniVGGNet():\n",
    "    model = Sequential([\n",
    "        # First Conv Block\n",
    "        Conv2D(32, (3, 3), padding=\"same\", activation=\"relu\", input_shape=(32, 32, 3)),\n",
    "        BatchNormalization(),\n",
    "        Conv2D(32, (3, 3), padding=\"same\", activation=\"relu\"),\n",
    "        BatchNormalization(),\n",
    "        MaxPooling2D(pool_size=(2, 2)),\n",
    "        Dropout(0.25),\n",
    "\n",
    "        # second conv block\n",
    "        Conv2D(64, (3, 3), padding=\"same\", activation=\"relu\"),\n",
    "        BatchNormalization(),\n",
    "        Conv2D(64, (3, 3), padding=\"same\", activation=\"relu\"),\n",
    "        BatchNormalization(),\n",
    "        MaxPooling2D(pool_size=(2, 2)),\n",
    "        Dropout(0.25),\n",
    "\n",
    "        # FC Layers\n",
    "        Flatten(),\n",
    "        Dense(512, activation=\"relu\"),\n",
    "        BatchNormalization(),\n",
    "        Dropout(0.5),\n",
    "\n",
    "        # output Layer (10 classes for CIFAR-10)\n",
    "        Dense(10, activation=\"softmax\")\n",
    "    ])\n",
    "\n",
    "    return model\n",
    "\n",
    "model = MiniVGGNet()"
   ]
  },
  {
   "cell_type": "code",
   "execution_count": 6,
   "id": "040e323d-a285-4c99-9776-8afb633c58f0",
   "metadata": {},
   "outputs": [
    {
     "name": "stdout",
     "output_type": "stream",
     "text": [
      "[INFO] compiling model ... \n",
      "Model: \"sequential\"\n",
      "_________________________________________________________________\n",
      " Layer (type)                Output Shape              Param #   \n",
      "=================================================================\n",
      " conv2d (Conv2D)             (None, 32, 32, 32)        896       \n",
      "                                                                 \n",
      " batch_normalization (BatchN  (None, 32, 32, 32)       128       \n",
      " ormalization)                                                   \n",
      "                                                                 \n",
      " conv2d_1 (Conv2D)           (None, 32, 32, 32)        9248      \n",
      "                                                                 \n",
      " batch_normalization_1 (Batc  (None, 32, 32, 32)       128       \n",
      " hNormalization)                                                 \n",
      "                                                                 \n",
      " max_pooling2d (MaxPooling2D  (None, 16, 16, 32)       0         \n",
      " )                                                               \n",
      "                                                                 \n",
      " dropout (Dropout)           (None, 16, 16, 32)        0         \n",
      "                                                                 \n",
      " conv2d_2 (Conv2D)           (None, 16, 16, 64)        18496     \n",
      "                                                                 \n",
      " batch_normalization_2 (Batc  (None, 16, 16, 64)       256       \n",
      " hNormalization)                                                 \n",
      "                                                                 \n",
      " conv2d_3 (Conv2D)           (None, 16, 16, 64)        36928     \n",
      "                                                                 \n",
      " batch_normalization_3 (Batc  (None, 16, 16, 64)       256       \n",
      " hNormalization)                                                 \n",
      "                                                                 \n",
      " max_pooling2d_1 (MaxPooling  (None, 8, 8, 64)         0         \n",
      " 2D)                                                             \n",
      "                                                                 \n",
      " dropout_1 (Dropout)         (None, 8, 8, 64)          0         \n",
      "                                                                 \n",
      " flatten (Flatten)           (None, 4096)              0         \n",
      "                                                                 \n",
      " dense (Dense)               (None, 512)               2097664   \n",
      "                                                                 \n",
      " batch_normalization_4 (Batc  (None, 512)              2048      \n",
      " hNormalization)                                                 \n",
      "                                                                 \n",
      " dropout_2 (Dropout)         (None, 512)               0         \n",
      "                                                                 \n",
      " dense_1 (Dense)             (None, 10)                5130      \n",
      "                                                                 \n",
      "=================================================================\n",
      "Total params: 2,171,178\n",
      "Trainable params: 2,169,770\n",
      "Non-trainable params: 1,408\n",
      "_________________________________________________________________\n"
     ]
    }
   ],
   "source": [
    "# compile\n",
    "print (\"[INFO] compiling model ... \")\n",
    "opt = SGD(learning_rate=0.01, momentum=0.9, decay=0.01 / 40)\n",
    "#model.compile(optimizer=opt, loss=\"sparse_categorical_crossentropy\", metrics=[\"accuracy\"])\n",
    "model.compile(optimizer=opt, loss=\"categorical_crossentropy\", metrics=[\"accuracy\"])\n",
    "\n",
    "# prints summary\n",
    "model.summary()"
   ]
  },
  {
   "cell_type": "markdown",
   "id": "9cc09967-001a-45f7-b0ed-8940ee8742f7",
   "metadata": {},
   "source": [
    "### Training\n",
    "Prints info on each Epoch"
   ]
  },
  {
   "cell_type": "code",
   "execution_count": 7,
   "id": "22375822-4b01-4ecd-9ba5-e26bf4989dd0",
   "metadata": {},
   "outputs": [
    {
     "name": "stdout",
     "output_type": "stream",
     "text": [
      "Training Model (MiniVGGNet)...\n",
      "Epoch [1/40], Train Loss: 1.8555, Train Acc: 38.97%, Test Acc: 45.10%, Time: 31.17 seconds\n",
      "Epoch [2/40], Train Loss: 1.3877, Train Acc: 51.51%, Test Acc: 60.34%, Time: 27.05 seconds\n",
      "Epoch [3/40], Train Loss: 1.2061, Train Acc: 57.66%, Test Acc: 66.01%, Time: 26.78 seconds\n",
      "Epoch [4/40], Train Loss: 1.0947, Train Acc: 61.25%, Test Acc: 65.72%, Time: 26.63 seconds\n",
      "Epoch [5/40], Train Loss: 1.0132, Train Acc: 64.16%, Test Acc: 70.06%, Time: 26.90 seconds\n",
      "Epoch [6/40], Train Loss: 0.9534, Train Acc: 66.46%, Test Acc: 67.08%, Time: 27.27 seconds\n",
      "Epoch [7/40], Train Loss: 0.9083, Train Acc: 68.10%, Test Acc: 70.63%, Time: 27.37 seconds\n",
      "Epoch [8/40], Train Loss: 0.8764, Train Acc: 69.15%, Test Acc: 71.76%, Time: 27.19 seconds\n",
      "Epoch [9/40], Train Loss: 0.8513, Train Acc: 70.06%, Test Acc: 72.63%, Time: 27.70 seconds\n",
      "Epoch [10/40], Train Loss: 0.8246, Train Acc: 71.10%, Test Acc: 71.43%, Time: 27.94 seconds\n",
      "Epoch [11/40], Train Loss: 0.8043, Train Acc: 71.41%, Test Acc: 73.42%, Time: 27.12 seconds\n",
      "Epoch [12/40], Train Loss: 0.7881, Train Acc: 72.16%, Test Acc: 73.08%, Time: 27.70 seconds\n",
      "Epoch [13/40], Train Loss: 0.7700, Train Acc: 72.73%, Test Acc: 75.24%, Time: 27.31 seconds\n",
      "Epoch [14/40], Train Loss: 0.7539, Train Acc: 73.51%, Test Acc: 76.80%, Time: 27.23 seconds\n",
      "Epoch [15/40], Train Loss: 0.7438, Train Acc: 73.90%, Test Acc: 75.16%, Time: 27.32 seconds\n",
      "Epoch [16/40], Train Loss: 0.7344, Train Acc: 74.30%, Test Acc: 73.89%, Time: 27.32 seconds\n",
      "Epoch [17/40], Train Loss: 0.7192, Train Acc: 74.95%, Test Acc: 76.38%, Time: 27.43 seconds\n",
      "Epoch [18/40], Train Loss: 0.7073, Train Acc: 75.25%, Test Acc: 77.09%, Time: 27.12 seconds\n",
      "Epoch [19/40], Train Loss: 0.6996, Train Acc: 75.29%, Test Acc: 75.86%, Time: 27.95 seconds\n",
      "Epoch [20/40], Train Loss: 0.6962, Train Acc: 75.49%, Test Acc: 76.76%, Time: 27.23 seconds\n",
      "Epoch [21/40], Train Loss: 0.6891, Train Acc: 75.89%, Test Acc: 77.51%, Time: 27.33 seconds\n",
      "Epoch [22/40], Train Loss: 0.6822, Train Acc: 76.07%, Test Acc: 76.52%, Time: 27.62 seconds\n",
      "Epoch [23/40], Train Loss: 0.6684, Train Acc: 76.66%, Test Acc: 76.89%, Time: 27.50 seconds\n",
      "Epoch [24/40], Train Loss: 0.6643, Train Acc: 76.98%, Test Acc: 78.35%, Time: 28.65 seconds\n",
      "Epoch [25/40], Train Loss: 0.6655, Train Acc: 76.58%, Test Acc: 78.96%, Time: 27.54 seconds\n",
      "Epoch [26/40], Train Loss: 0.6601, Train Acc: 76.90%, Test Acc: 77.98%, Time: 26.99 seconds\n",
      "Epoch [27/40], Train Loss: 0.6540, Train Acc: 76.87%, Test Acc: 78.34%, Time: 26.91 seconds\n",
      "Epoch [28/40], Train Loss: 0.6531, Train Acc: 77.10%, Test Acc: 79.10%, Time: 27.82 seconds\n",
      "Epoch [29/40], Train Loss: 0.6417, Train Acc: 77.47%, Test Acc: 78.64%, Time: 27.14 seconds\n",
      "Epoch [30/40], Train Loss: 0.6319, Train Acc: 77.86%, Test Acc: 78.62%, Time: 27.35 seconds\n",
      "Epoch [31/40], Train Loss: 0.6315, Train Acc: 77.95%, Test Acc: 78.59%, Time: 27.61 seconds\n",
      "Epoch [32/40], Train Loss: 0.6335, Train Acc: 77.80%, Test Acc: 79.53%, Time: 28.36 seconds\n",
      "Epoch [33/40], Train Loss: 0.6227, Train Acc: 78.30%, Test Acc: 79.18%, Time: 28.15 seconds\n",
      "Epoch [34/40], Train Loss: 0.6193, Train Acc: 78.41%, Test Acc: 79.25%, Time: 26.99 seconds\n",
      "Epoch [35/40], Train Loss: 0.6208, Train Acc: 78.34%, Test Acc: 79.57%, Time: 27.11 seconds\n",
      "Epoch [36/40], Train Loss: 0.6104, Train Acc: 78.63%, Test Acc: 79.56%, Time: 26.95 seconds\n",
      "Epoch [37/40], Train Loss: 0.6123, Train Acc: 78.52%, Test Acc: 79.74%, Time: 27.40 seconds\n",
      "Epoch [38/40], Train Loss: 0.6055, Train Acc: 78.90%, Test Acc: 78.73%, Time: 27.10 seconds\n",
      "Epoch [39/40], Train Loss: 0.6069, Train Acc: 78.66%, Test Acc: 79.94%, Time: 27.70 seconds\n",
      "Epoch [40/40], Train Loss: 0.6027, Train Acc: 79.00%, Test Acc: 80.11%, Time: 28.20 seconds\n",
      "Total training time: 1100.12 seconds\n"
     ]
    }
   ],
   "source": [
    "# Train model\n",
    "epochs = 40\n",
    "batch_size = 64\n",
    "train_losses, train_accs, test_accs = [], [], []\n",
    "\n",
    "print(\"Training Model (MiniVGGNet)...\")\n",
    "total_start_time = time.time()\n",
    "\n",
    "\n",
    "for epoch in range(epochs):\n",
    "    epoch_start_time = time.time()\n",
    "    \n",
    "    history = model.fit(\n",
    "        train_generator,\n",
    "        epochs=1,\n",
    "        validation_data=(x_test, y_test),\n",
    "        batch_size=batch_size,\n",
    "        verbose=0\n",
    "    )\n",
    "    \n",
    "    train_loss = history.history[\"loss\"][0]\n",
    "    train_acc = history.history[\"accuracy\"][0] * 100  # percentage\n",
    "    test_acc = history.history[\"val_accuracy\"][0] * 100\n",
    "\n",
    "    # Store results\n",
    "    train_losses.append(train_loss)\n",
    "    train_accs.append(train_acc)\n",
    "    test_accs.append(test_acc)\n",
    "\n",
    "    epoch_time = time.time() - epoch_start_time\n",
    "    \n",
    "    print(f\"Epoch [{epoch+1}/{epochs}], Train Loss: {train_loss:.4f}, \"\n",
    "          f\"Train Acc: {train_acc:.2f}%, Test Acc: {test_acc:.2f}%, \"\n",
    "          f\"Time: {epoch_time:.2f} seconds\")\n",
    "\n",
    "print(f\"Total training time: {time.time() - total_start_time:.2f} seconds\")"
   ]
  },
  {
   "cell_type": "code",
   "execution_count": 8,
   "id": "4e4b9923-43fc-4f5c-aeae-072eba095f1b",
   "metadata": {},
   "outputs": [
    {
     "name": "stdout",
     "output_type": "stream",
     "text": [
      "313/313 [==============================] - 1s 3ms/step - loss: 0.5909 - accuracy: 0.8011\n",
      "Test accuracy: 80.11%\n"
     ]
    },
    {
     "data": {
      "image/png": "[encoded data removed]",
      "text/plain": [
       "<Figure size 1200x400 with 2 Axes>"
      ]
     },
     "metadata": {},
     "output_type": "display_data"
    }
   ],
   "source": [
    "# Evaluate the model\n",
    "test_loss, test_acc = model.evaluate(x_test, y_test, verbose=1)\n",
    "print(f\"Test accuracy: {test_acc * 100:.2f}%\")\n",
    "\n",
    "# Plot training history\n",
    "plt.figure(figsize=(12, 4))\n",
    "\n",
    "# Plot accuracy\n",
    "plt.subplot(1, 2, 1)\n",
    "plt.plot(history.history[\"accuracy\"], label=\"Train Accuracy\")\n",
    "plt.plot(history.history[\"val_accuracy\"], label=\"Test Accuracy\")\n",
    "plt.xlabel(\"Epochs\")\n",
    "plt.ylabel(\"Accuracy\")\n",
    "plt.legend()\n",
    "plt.title(\"Training and Validation Accuracy\")\n",
    "\n",
    "# Plot loss\n",
    "plt.subplot(1, 2, 2)\n",
    "plt.plot(history.history[\"loss\"], label=\"Train Loss\")\n",
    "plt.plot(history.history[\"val_loss\"], label=\"Test Loss\")\n",
    "plt.xlabel(\"Epochs\")\n",
    "plt.ylabel(\"Loss\")\n",
    "plt.legend()\n",
    "plt.title(\"Training and Validation Loss\")\n",
    "\n",
    "plt.show()\n"
   ]
  },
  {
   "cell_type": "code",
   "execution_count": 9,
   "id": "91c11e9a-99f4-4b38-bca0-cfb9f7de7962",
   "metadata": {},
   "outputs": [
    {
     "name": "stdout",
     "output_type": "stream",
     "text": [
      "1/1 [==============================] - 0s 208ms/step\n"
     ]
    },
    {
     "ename": "NameError",
     "evalue": "name 'class_names' is not defined",
     "output_type": "error",
     "traceback": [
      "\u001b[1;31m---------------------------------------------------------------------------\u001b[0m",
      "\u001b[1;31mNameError\u001b[0m                                 Traceback (most recent call last)",
      "Cell \u001b[1;32mIn[9], line 16\u001b[0m\n\u001b[0;32m     14\u001b[0m     plt\u001b[38;5;241m.\u001b[39msubplot(\u001b[38;5;241m2\u001b[39m, \u001b[38;5;241m5\u001b[39m, i \u001b[38;5;241m+\u001b[39m \u001b[38;5;241m1\u001b[39m)\n\u001b[0;32m     15\u001b[0m     plt\u001b[38;5;241m.\u001b[39mimshow(sample_images[i])\n\u001b[1;32m---> 16\u001b[0m     plt\u001b[38;5;241m.\u001b[39mtitle(\u001b[38;5;124mf\u001b[39m\u001b[38;5;124m\"\u001b[39m\u001b[38;5;124mPred: \u001b[39m\u001b[38;5;132;01m{\u001b[39;00mclass_names[predicted_classes[i]]\u001b[38;5;132;01m}\u001b[39;00m\u001b[38;5;130;01m\\n\u001b[39;00m\u001b[38;5;124mTrue: \u001b[39m\u001b[38;5;132;01m{\u001b[39;00mclass_names[sample_labels[i][\u001b[38;5;241m0\u001b[39m]]\u001b[38;5;132;01m}\u001b[39;00m\u001b[38;5;124m\"\u001b[39m)\n\u001b[0;32m     17\u001b[0m     plt\u001b[38;5;241m.\u001b[39maxis(\u001b[38;5;124m\"\u001b[39m\u001b[38;5;124moff\u001b[39m\u001b[38;5;124m\"\u001b[39m)\n\u001b[0;32m     18\u001b[0m plt\u001b[38;5;241m.\u001b[39mshow()\n",
      "\u001b[1;31mNameError\u001b[0m: name 'class_names' is not defined"
     ]
    },
    {
     "data": {
      "image/png": "[encoded data removed]",
      "text/plain": [
       "<Figure size 1200x600 with 1 Axes>"
      ]
     },
     "metadata": {},
     "output_type": "display_data"
    }
   ],
   "source": [
    "# Select random test images\n",
    "num_samples = 10\n",
    "indices = np.random.choice(len(x_test), num_samples, replace=False)\n",
    "sample_images = x_test[indices]\n",
    "sample_labels = y_test[indices]\n",
    "\n",
    "# Predict labels\n",
    "predictions = model.predict(sample_images)\n",
    "predicted_classes = np.argmax(predictions, axis=1)\n",
    "\n",
    "# Plot images with predictions\n",
    "plt.figure(figsize=(12, 6))\n",
    "for i in range(num_samples):\n",
    "    plt.subplot(2, 5, i + 1)\n",
    "    plt.imshow(sample_images[i])\n",
    "    plt.title(f\"Pred: {class_names[predicted_classes[i]]}\\nTrue: {class_names[sample_labels[i][0]]}\")\n",
    "    plt.axis(\"off\")\n",
    "plt.show()\n"
   ]
  },
  {
   "cell_type": "code",
   "execution_count": null,
   "id": "ec48dc04-0477-4fc1-9723-07efd4922826",
   "metadata": {},
   "outputs": [],
   "source": []
  }
 ],
 "metadata": {
  "kernelspec": {
   "display_name": "Python (py310)",
   "language": "python",
   "name": "py310"
  },
  "language_info": {
   "codemirror_mode": {
    "name": "ipython",
    "version": 3
   },
   "file_extension": ".py",
   "mimetype": "text/x-python",
   "name": "python",
   "nbconvert_exporter": "python",
   "pygments_lexer": "ipython3",
   "version": "3.10.16"
  }
 },
 "nbformat": 4,
 "nbformat_minor": 5
}
