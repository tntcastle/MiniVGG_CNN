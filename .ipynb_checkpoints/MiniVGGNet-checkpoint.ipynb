{
 "cells": [
  {
   "cell_type": "markdown",
   "id": "2b8479e4-bc4c-4b04-ab60-f008b0864f24",
   "metadata": {},
   "source": [
    "## MiniVGGNet CNN\n"
   ]
  },
  {
   "cell_type": "code",
   "execution_count": null,
   "id": "14f405c2-f248-460d-b72c-aa8a871a98ef",
   "metadata": {},
   "outputs": [],
   "source": []
  }
 ],
 "metadata": {
  "kernelspec": {
   "display_name": "Python 3 (ipykernel)",
   "language": "python",
   "name": "python3"
  },
  "language_info": {
   "codemirror_mode": {
    "name": "ipython",
    "version": 3
   },
   "file_extension": ".py",
   "mimetype": "text/x-python",
   "name": "python",
   "nbconvert_exporter": "python",
   "pygments_lexer": "ipython3",
   "version": "3.10.11"
  }
 },
 "nbformat": 4,
 "nbformat_minor": 5
}
