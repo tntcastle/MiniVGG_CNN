{
 "cells": [
  {
   "cell_type": "markdown",
   "id": "2b8479e4-bc4c-4b04-ab60-f008b0864f24",
   "metadata": {},
   "source": [
    "## MiniVGGNet CNN\n",
    "This model is a lot more complex than the ShallowNet one. "
   ]
  },
  {
   "cell_type": "code",
   "execution_count": 4,
   "id": "f5393c01-dde7-4fb5-8583-64215b6b330b",
   "metadata": {},
   "outputs": [
    {
     "name": "stdout",
     "output_type": "stream",
     "text": [
      "cuda\n",
      "CUDA Available:  True\n",
      "12.1\n"
     ]
    }
   ],
   "source": [
    "#imports and CUDA check\n",
    "import torch\n",
    "import torch.nn as nn\n",
    "import torch.optim as optim\n",
    "import torchvision\n",
    "import torchvision.transforms as transforms\n",
    "import matplotlib.pyplot as plt\n",
    "\n",
    "device = torch.device(\"cuda\" if torch.cuda.is_available() else \"cpu\")\n",
    "print(device)\n",
    "print(\"CUDA Available: \", torch.cuda.is_available())\n",
    "print(torch.version.cuda)"
   ]
  },
  {
   "cell_type": "markdown",
   "id": "f105bbf7-639b-4e9e-b7ee-23c79a3bd934",
   "metadata": {},
   "source": [
    "### MiniVGGNet Model\n",
    "\n",
    "First conv block\n",
    "- 2 conv layers (3x3, 32 filters)\n",
    "- ReLu activation (discards noise)\n",
    "- BatchNorm (normalizes activation for efficiency)\n",
    "- Max Pool (downsamples dimensions)\n",
    "- Dropout 25% (reduces overfitting)\n",
    "\n",
    "Second block\n",
    "- 2 conv layers (3x3, 64 filters)\n",
    "- BatchNorm\n",
    "- MaxPool\n",
    "- Dropout 25%\n",
    "\n",
    "Final\n",
    "- flatten (1D vector)\n",
    "- FC (512 neurons, 64 feature maps * 8x8 spacial dimensions)"
   ]
  },
  {
   "cell_type": "code",
   "execution_count": 5,
   "id": "1526f7b8-6e1b-41e9-a013-6ed6dbd51714",
   "metadata": {},
   "outputs": [],
   "source": [
    "class MiniVGGNet(nn.Module):\n",
    "    def __init__(self, num_classes=10):\n",
    "        super(MiniVGGNet, self).__init__()\n",
    "\n",
    "        # first block: 32 filters, 3x3 kernel\n",
    "        self.conv1 = nn.Conv2d(in_channels=3, out_channels=32, kernel_size=3, padding=1)\n",
    "        self.conv2 = nn.Conv2d(in_channels=32, out_channels=32, kernel_size=3, padding=1)\n",
    "        self.relu = nn.ReLU() # discards noise\n",
    "        self.batchnorm1 = nn.BatchNorm2d(32) # batch normalization - stabilization\n",
    "        self.pool1 = nn.MaxPool2d(kernel_size=2, stride=2) # max val per kernel\n",
    "        self.dropout1 = nn.Dropout(0.25) # 25% chance of neuron deactivation, prevents overfitting\n",
    "\n",
    "        # second block: 64 filters, 3x3 kernel\n",
    "        self.conv3 = nn.Conv2d(in_channels=32, out_channels=64, kernel_size=3, padding=1)\n",
    "        self.conv4 = nn.Conv2d(in_channels=64, out_channels=64, kernel_size=3, padding=1)\n",
    "        self.batchnorm2 = nn.BatchNorm2d(64)\n",
    "        self.pool2 = nn.MaxPool2d(kernel_size=2, stride=2)\n",
    "        self.dropout2 = nn.Dropout(0.25)\n",
    "        \n",
    "        self.flatten = nn.Flatten() # converts feature maps to 1D vector\n",
    "        self.fc1 = nn.Linear(64 * 8 * 8, 512) # first fc layer (64 feature maps * 8x8)\n",
    "        self.batchnorm3 = nn.BatchNorm1d(512) # batch norm for FC\n",
    "        self.dropout3 = nn.Dropout(0.5) # 50% chance neuron deactivation\n",
    "\n",
    "        self.fc2 = nn.Linear(512, num_classes) #Cifar-10 has 10 classes\n",
    "\n",
    "    def forward(self, x):\n",
    "        # first block\n",
    "        x = self.relu(self.batchnorm1(self.conv1(x)))\n",
    "        x = self.relu(self.batchnorm1(self.conv2(x)))\n",
    "        x = self.pool1(x)\n",
    "        x = self.dropout1(x) \n",
    "\n",
    "        # Second block\n",
    "        x = self.relu(self.batchnorm2(self.conv3(x)))\n",
    "        x = self.relu(self.batchnorm2(self.conv4(x)))\n",
    "        x = self.pool2(x) \n",
    "        x = self.dropout2(x) \n",
    "\n",
    "        # fc layers\n",
    "        x = self.flatten(x) \n",
    "        x = self.relu(self.batchnorm3(self.fc1(x)))\n",
    "        x = self.dropout3(x)\n",
    "        x = self.fc2(x)\n",
    "        return x"
   ]
  },
  {
   "cell_type": "markdown",
   "id": "470886a0-5020-4724-a64e-37b95939518d",
   "metadata": {},
   "source": [
    "### Cifer10 Dataset"
   ]
  },
  {
   "cell_type": "code",
   "execution_count": null,
   "id": "e68f422b-7c1b-48c2-ab49-d228804e8334",
   "metadata": {},
   "outputs": [],
   "source": []
  }
 ],
 "metadata": {
  "kernelspec": {
   "display_name": "Python 3 (ipykernel)",
   "language": "python",
   "name": "python3"
  },
  "language_info": {
   "codemirror_mode": {
    "name": "ipython",
    "version": 3
   },
   "file_extension": ".py",
   "mimetype": "text/x-python",
   "name": "python",
   "nbconvert_exporter": "python",
   "pygments_lexer": "ipython3",
   "version": "3.10.11"
  }
 },
 "nbformat": 4,
 "nbformat_minor": 5
}
