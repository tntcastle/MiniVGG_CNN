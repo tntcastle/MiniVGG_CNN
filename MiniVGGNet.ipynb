{
 "cells": [
  {
   "cell_type": "markdown",
   "id": "2b8479e4-bc4c-4b04-ab60-f008b0864f24",
   "metadata": {},
   "source": [
    "## MiniVGGNet CNN\n",
    "This model is a lot more complex than the ShallowNet one. "
   ]
  },
  {
   "cell_type": "code",
   "execution_count": 2,
   "id": "f5393c01-dde7-4fb5-8583-64215b6b330b",
   "metadata": {},
   "outputs": [
    {
     "name": "stdout",
     "output_type": "stream",
     "text": [
      "CUDA Available:  True\n",
      "12.1\n"
     ]
    }
   ],
   "source": [
    "#imports and CUDA check\n",
    "import torch\n",
    "import torch.nn as nn\n",
    "import torch.optim as optim\n",
    "import torchvision\n",
    "import torchvision.transforms as transforms\n",
    "import matplotlib.pyplot as plt\n",
    "\n",
    "device = torch.device(\"cuda\" if torch.cuda.is_available() else \"cpu\")\n",
    "print(\"CUDA Available: \", torch.cuda.is_available())\n",
    "print(torch.version.cuda)"
   ]
  },
  {
   "cell_type": "markdown",
   "id": "f105bbf7-639b-4e9e-b7ee-23c79a3bd934",
   "metadata": {},
   "source": [
    "### MiniVGGNet Model"
   ]
  },
  {
   "cell_type": "code",
   "execution_count": null,
   "id": "1526f7b8-6e1b-41e9-a013-6ed6dbd51714",
   "metadata": {},
   "outputs": [],
   "source": [
    "class MiniVGGNet(nn.module):\n",
    "    def __init__(self, num_classes=10):\n",
    "        super(MiniVGGNet, self).__init__()\n",
    "        "
   ]
  }
 ],
 "metadata": {
  "kernelspec": {
   "display_name": "Python 3 (ipykernel)",
   "language": "python",
   "name": "python3"
  },
  "language_info": {
   "codemirror_mode": {
    "name": "ipython",
    "version": 3
   },
   "file_extension": ".py",
   "mimetype": "text/x-python",
   "name": "python",
   "nbconvert_exporter": "python",
   "pygments_lexer": "ipython3",
   "version": "3.10.11"
  }
 },
 "nbformat": 4,
 "nbformat_minor": 5
}
