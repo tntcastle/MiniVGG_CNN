{
 "cells": [
  {
   "cell_type": "markdown",
   "id": "612912df-8bcd-40da-a255-30353a08d380",
   "metadata": {},
   "source": [
    "## MiniVGGNet CNN (TensorFlow + Keras)"
   ]
  },
  {
   "cell_type": "code",
   "execution_count": 5,
   "id": "32afc255-d0bc-4938-b2d9-cc7f0d8c57d6",
   "metadata": {},
   "outputs": [
    {
     "name": "stdout",
     "output_type": "stream",
     "text": [
      "2.10.1\n",
      "[PhysicalDevice(name='/physical_device:GPU:0', device_type='GPU')]\n"
     ]
    }
   ],
   "source": [
    "import tensorflow as tf\n",
    "from tensorflow.keras.models import Sequential\n",
    "from tensorflow.keras.layers import Conv2D, MaxPooling2D, Flatten, Dense, Dropout, BatchNormalization\n",
    "from tensorflow.keras.optimizers import SGD\n",
    "from tensorflow.keras.preprocessing.image import ImageDataGenerator\n",
    "\n",
    "import matplotlib.pyplot as plt\n",
    "import numpy as np\n",
    "import time\n",
    "\n",
    "print(tf.__version__)\n",
    "print(tf.config.list_physical_devices('GPU'))"
   ]
  },
  {
   "cell_type": "markdown",
   "id": "b2f14a96-48e1-4fba-94db-f59f3da43355",
   "metadata": {},
   "source": [
    "### CIFAR 10 Dataset"
   ]
  },
  {
   "cell_type": "code",
   "execution_count": 16,
   "id": "6a1edf0b-46c5-4df3-b31f-88c858ed543a",
   "metadata": {},
   "outputs": [],
   "source": [
    "(x_train, y_train), (x_test, y_test) = tf.keras.datasets.cifar10.load_data()\n",
    "\n",
    "# normalize images (scale between 0 and 1)\n",
    "x_train, x_test = x_train.astype(\"float32\") / 255.0, x_test.astype(\"float32\") / 255.0\n",
    "\n",
    "y_train = tf.keras.utils.to_categorical(y_train, 10)\n",
    "y_test = tf.keras.utils.to_categorical(y_test, 10)"
   ]
  },
  {
   "cell_type": "code",
   "execution_count": 17,
   "id": "fc2a7ccb-6f72-4e9e-808d-a1b2ddb30c37",
   "metadata": {},
   "outputs": [
    {
     "data": {
      "image/png": "[encoded data removed]",
      "text/plain": [
       "<Figure size 640x480 with 1 Axes>"
      ]
     },
     "metadata": {},
     "output_type": "display_data"
    }
   ],
   "source": [
    "# test print to make sure import was  a success \n",
    "cifar10_classes = [\"airplane\", \"automobile\", \"bird\", \"cat\", \"deer\", \"dog\", \"frog\", \"horse\", \"ship\", \"truck\"]\n",
    "\n",
    "idx = np.random.randint(0, len(x_train))\n",
    "sample_image = x_train[idx] \n",
    "sample_label = np.argmax(y_train[idx]) \n",
    "class_name = cifar10_classes[sample_label] \n",
    "sample_image = sample_image * 255.0 \n",
    "sample_image = sample_image.astype(\"uint8\")\n",
    "\n",
    "plt.imshow(sample_image)\n",
    "plt.title(f\"Class: {class_name} ({sample_label})\")\n",
    "plt.axis(\"off\")\n",
    "plt.show()"
   ]
  },
  {
   "cell_type": "code",
   "execution_count": 18,
   "id": "11094c7c-5b70-407f-8aaa-adf2519995b3",
   "metadata": {},
   "outputs": [],
   "source": [
    "# data augmentation for training only\n",
    "train_datagen = ImageDataGenerator(\n",
    "    rotation_range=10,   # Rotate images randomly\n",
    "    width_shift_range=0.1,\n",
    "    height_shift_range=0.1,\n",
    "    horizontal_flip=True\n",
    ")\n",
    "\n",
    "# Apply augmentation only on training data\n",
    "train_generator = train_datagen.flow(x_train, y_train, batch_size=64)"
   ]
  },
  {
   "cell_type": "markdown",
   "id": "d5b53684-714c-4d39-b40d-1f9d1b5a59ff",
   "metadata": {},
   "source": [
    "### MiniVGGNet Model\n",
    "\n",
    "First conv block\n",
    "- 2 conv layers (3x3, 32 filters)\n",
    "- ReLu activation (discards noise)\n",
    "- BatchNorm (normalizes activation for efficiency)\n",
    "- Max Pool (downsamples dimensions)\n",
    "- Dropout 25% (reduces overfitting)\n",
    "\n",
    "Second block\n",
    "- 2 conv layers (3x3, 64 filters)\n",
    "- BatchNorm\n",
    "- MaxPool\n",
    "- Dropout 25%\n",
    "\n",
    "Final\n",
    "- flatten (1D vector)\n",
    "- FC (512 neurons, 64 feature maps * 8x8 spacial dimensions)\n",
    "- Batch norm (for FC)\n",
    "- Droupout 50%\n",
    "- Final FC (with number of classes)"
   ]
  },
  {
   "cell_type": "code",
   "execution_count": 19,
   "id": "71028777-40e3-461c-a33b-46296969b497",
   "metadata": {},
   "outputs": [],
   "source": [
    "def MiniVGGNet():\n",
    "    model = Sequential([\n",
    "        # First Conv Block\n",
    "        Conv2D(32, (3, 3), padding=\"same\", activation=\"relu\", input_shape=(32, 32, 3)),\n",
    "        BatchNormalization(),\n",
    "        Conv2D(32, (3, 3), padding=\"same\", activation=\"relu\"),\n",
    "        BatchNormalization(),\n",
    "        MaxPooling2D(pool_size=(2, 2)),\n",
    "        Dropout(0.25),\n",
    "\n",
    "        # second conv block\n",
    "        Conv2D(64, (3, 3), padding=\"same\", activation=\"relu\"),\n",
    "        BatchNormalization(),\n",
    "        Conv2D(64, (3, 3), padding=\"same\", activation=\"relu\"),\n",
    "        BatchNormalization(),\n",
    "        MaxPooling2D(pool_size=(2, 2)),\n",
    "        Dropout(0.25),\n",
    "\n",
    "        # FC Layers\n",
    "        Flatten(),\n",
    "        Dense(512, activation=\"relu\"),\n",
    "        BatchNormalization(),\n",
    "        Dropout(0.5),\n",
    "\n",
    "        # output Layer (10 classes for CIFAR-10)\n",
    "        Dense(10, activation=\"softmax\")\n",
    "    ])\n",
    "\n",
    "    return model\n",
    "\n",
    "model = MiniVGGNet()"
   ]
  },
  {
   "cell_type": "code",
   "execution_count": 20,
   "id": "040e323d-a285-4c99-9776-8afb633c58f0",
   "metadata": {},
   "outputs": [
    {
     "name": "stdout",
     "output_type": "stream",
     "text": [
      "Model: \"sequential\"\n",
      "_________________________________________________________________\n",
      " Layer (type)                Output Shape              Param #   \n",
      "=================================================================\n",
      " conv2d (Conv2D)             (None, 32, 32, 32)        896       \n",
      "                                                                 \n",
      " batch_normalization (BatchN  (None, 32, 32, 32)       128       \n",
      " ormalization)                                                   \n",
      "                                                                 \n",
      " conv2d_1 (Conv2D)           (None, 32, 32, 32)        9248      \n",
      "                                                                 \n",
      " batch_normalization_1 (Batc  (None, 32, 32, 32)       128       \n",
      " hNormalization)                                                 \n",
      "                                                                 \n",
      " max_pooling2d (MaxPooling2D  (None, 16, 16, 32)       0         \n",
      " )                                                               \n",
      "                                                                 \n",
      " dropout (Dropout)           (None, 16, 16, 32)        0         \n",
      "                                                                 \n",
      " conv2d_2 (Conv2D)           (None, 16, 16, 64)        18496     \n",
      "                                                                 \n",
      " batch_normalization_2 (Batc  (None, 16, 16, 64)       256       \n",
      " hNormalization)                                                 \n",
      "                                                                 \n",
      " conv2d_3 (Conv2D)           (None, 16, 16, 64)        36928     \n",
      "                                                                 \n",
      " batch_normalization_3 (Batc  (None, 16, 16, 64)       256       \n",
      " hNormalization)                                                 \n",
      "                                                                 \n",
      " max_pooling2d_1 (MaxPooling  (None, 8, 8, 64)         0         \n",
      " 2D)                                                             \n",
      "                                                                 \n",
      " dropout_1 (Dropout)         (None, 8, 8, 64)          0         \n",
      "                                                                 \n",
      " flatten (Flatten)           (None, 4096)              0         \n",
      "                                                                 \n",
      " dense (Dense)               (None, 512)               2097664   \n",
      "                                                                 \n",
      " batch_normalization_4 (Batc  (None, 512)              2048      \n",
      " hNormalization)                                                 \n",
      "                                                                 \n",
      " dropout_2 (Dropout)         (None, 512)               0         \n",
      "                                                                 \n",
      " dense_1 (Dense)             (None, 10)                5130      \n",
      "                                                                 \n",
      "=================================================================\n",
      "Total params: 2,171,178\n",
      "Trainable params: 2,169,770\n",
      "Non-trainable params: 1,408\n",
      "_________________________________________________________________\n"
     ]
    }
   ],
   "source": [
    "# compile\n",
    "opt = SGD(learning_rate=0.01, momentum=0.9, decay=0.01 / 40)\n",
    "model.compile(optimizer=opt, loss=\"sparse_categorical_crossentropy\", metrics=[\"accuracy\"])\n",
    "\n",
    "# prints summary\n",
    "model.summary()"
   ]
  },
  {
   "cell_type": "code",
   "execution_count": null,
   "id": "22375822-4b01-4ecd-9ba5-e26bf4989dd0",
   "metadata": {},
   "outputs": [],
   "source": []
  }
 ],
 "metadata": {
  "kernelspec": {
   "display_name": "Python 3 (ipykernel)",
   "language": "python",
   "name": "python3"
  },
  "language_info": {
   "codemirror_mode": {
    "name": "ipython",
    "version": 3
   },
   "file_extension": ".py",
   "mimetype": "text/x-python",
   "name": "python",
   "nbconvert_exporter": "python",
   "pygments_lexer": "ipython3",
   "version": "3.10.16"
  }
 },
 "nbformat": 4,
 "nbformat_minor": 5
}
